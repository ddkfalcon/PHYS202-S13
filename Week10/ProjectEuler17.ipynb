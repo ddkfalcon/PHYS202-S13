{
 "metadata": {
  "name": "ProjectEuler17"
 },
 "nbformat": 3,
 "nbformat_minor": 0,
 "worksheets": [
  {
   "cells": [
    {
     "cell_type": "markdown",
     "metadata": {},
     "source": [
      "Project Euler 17\n",
      "=\n",
      "Dawei Kuo"
     ]
    },
    {
     "cell_type": "markdown",
     "metadata": {},
     "source": [
      "If the numbers 1 to 5 are written out in words: one, two, three, four, five, then there are 3 + 3 + 5 + 4 + 4 = 19 letters used in total.  \n",
      "  \n",
      "If all the numbers from 1 to 1000 (one thousand) inclusive were written out in words, how many letters would be used?  \n",
      "  \n",
      "  \n",
      "<b>NOTE</b>: Do not count spaces or hyphens. For example, 342 (three hundred and forty-two) contains 23 letters and 115 (one hundred and fifteen) contains 20 letters. The use of \"and\" when writing out numbers is in compliance with British usage"
     ]
    },
    {
     "cell_type": "code",
     "collapsed": false,
     "input": [
      "numbers = {1: 'one', \n",
      "           2: 'two', \n",
      "           3: 'three', \n",
      "           4: 'four', \n",
      "            5: 'five', \n",
      "            6: 'six',\n",
      "            7: 'seven',\n",
      "            8: 'eight',\n",
      "            9: 'nine',\n",
      "            10: 'ten',\n",
      "            11: 'eleven',\n",
      "            12: 'twelve',\n",
      "            13: 'thirteen',\n",
      "            14: 'fourteen',\n",
      "            15: 'fifteen',\n",
      "            16: 'sixteen',\n",
      "            17: 'seventeen',\n",
      "            18: 'eighteen',\n",
      "            19: 'nineteen',\n",
      "            20: 'twenty',\n",
      "            30: 'thirty',\n",
      "            40: 'forty',\n",
      "            50: 'fifty',\n",
      "            60: 'sixty',\n",
      "            70: 'seventy',\n",
      "            80: 'eighty',\n",
      "            90: 'ninety',\n",
      "            100: 'hundred',\n",
      "            1000: 'thousand'}\n",
      "count = 0\n",
      "for n in range(1, 1001):\n",
      "    \n",
      "    convertedToString = str(n)\n",
      "    \n",
      "    #Taking care of ones\n",
      "    if len(convertedToString) == 1: \n",
      "        stringLength = len(numbers[n])\n",
      "        \n",
      "    #Taking care of two digit numbers\n",
      "    elif len(convertedToString) == 2:\n",
      "        digit1 = convertedToString[0:1]\n",
      "        digit2 = convertedToString[1:2]\n",
      "        #print digit1, digit2\n",
      "        if n < 20:\n",
      "            stringLength = len(numbers[n])\n",
      "        else:\n",
      "            if digit2 == '0':\n",
      "                stringLength = len(numbers[n])\n",
      "            else:\n",
      "                tensIndex = str(digit1 + '0')\n",
      "                stringLength = len(numbers[int(tensIndex)]) + len(numbers[int(digit2)])\n",
      "                #print tensIndex\n",
      "                \n",
      "    #Taking care of three digit numbers\n",
      "    elif len(convertedToString) == 3:\n",
      "        digit1 = convertedToString[0:1]\n",
      "        digit2 = convertedToString[1:2]\n",
      "        digit3 = convertedToString[2:3]\n",
      "        tensIndex = str(digit2 + '0')\n",
      "        hundredsIndex = str(digit2 + digit3)\n",
      "        #print tensIndex, hundredsIndex\n",
      "        if digit1 == '1' and digit2 == '0' and digit3 == '0': #100\n",
      "            stringLength = len(numbers[1]) + len(numbers[100])\n",
      "            #print stringLength\n",
      "        elif digit2 == '0' and digit3 == '0':  #hundreds place\n",
      "            stringLength = len(numbers[int(digit1)]) + len(numbers[100])\n",
      "            #print stringLength\n",
      "        elif digit2 == '0' and digit3 != '0': #ones place, 3 is for and\n",
      "            stringLength = 3 + len(numbers[int(digit1)]) + len(numbers[100]) + len(numbers[int(digit3)])\n",
      "            #print stringLength\n",
      "        elif digit2 != '0' and digit3 == '0': #tens place\n",
      "            stringLength = 3 + len(numbers[int(digit1)]) + len(numbers[100]) + len(numbers[int(tensIndex)])\n",
      "        elif digit2 == '1' and digit3 != '0':  #hundreds place\n",
      "            stringLength = 3 + len(numbers[int(digit1)]) + len(numbers[100]) + len(numbers[int(hundredsIndex)])\n",
      "        else: \n",
      "            stringLength = 3 + len(numbers[int(digit1)]) + len(numbers[100]) + len(numbers[int(tensIndex)]) + len(numbers[int(digit3)])\n",
      "    else:  #1000\n",
      "        stringLength = len(numbers[1]) + len(numbers[1000])\n",
      "        \n",
      "    count += stringLength\n",
      "print count"
     ],
     "language": "python",
     "metadata": {},
     "outputs": [
      {
       "output_type": "stream",
       "stream": "stdout",
       "text": [
        "21124\n"
       ]
      }
     ],
     "prompt_number": 5
    },
    {
     "cell_type": "code",
     "collapsed": false,
     "input": [],
     "language": "python",
     "metadata": {},
     "outputs": []
    },
    {
     "cell_type": "code",
     "collapsed": false,
     "input": [],
     "language": "python",
     "metadata": {},
     "outputs": []
    }
   ],
   "metadata": {}
  }
 ]
}