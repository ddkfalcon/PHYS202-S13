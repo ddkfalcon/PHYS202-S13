{
 "metadata": {
  "name": "ProjectEuler31"
 },
 "nbformat": 3,
 "nbformat_minor": 0,
 "worksheets": [
  {
   "cells": [
    {
     "cell_type": "markdown",
     "metadata": {},
     "source": [
      "Coin sums\n",
      "=\n",
      "Problem 31\n",
      "-\n",
      "In England the currency is made up of pound, \u00a3, and pence, p, and there are eight coins in general circulation:  \n",
      "  \n",
      ">1p, 2p, 5p, 10p, 20p, 50p, \u00a31 (100p) and \u00a32 (200p).  \n",
      "  \n",
      "It is possible to make \u00a32 in the following way:  \n",
      "  \n",
      ">1x\u00a31 + 1x50p + 2x20p + 1x5p + 1x2p + 3x1p  \n",
      "  \n",
      "How many different ways can \u00a32 be made using any number of coins?  "
     ]
    },
    {
     "cell_type": "code",
     "collapsed": false,
     "input": [
      "count = 0\n",
      "for a in range(2):\n",
      "    if (200 * a) > 200:\n",
      "        break\n",
      "    for b in range(3):\n",
      "        if (200 * a + 100 * b) > 200:\n",
      "            break\n",
      "        for c in range(5):\n",
      "            if (200 * a + 100 * b + 50 * c) > 200:\n",
      "                break\n",
      "            for d in range(11):\n",
      "                if (200 * a + 100 * b + 50 * c + 20 * d) > 200:\n",
      "                    break\n",
      "                for e in range(21):\n",
      "                    if (200 * a + 100 * b + 50 * c + 20 * d + 10 * e) > 200:\n",
      "                        break\n",
      "                    for f in range(41):\n",
      "                        if (200 * a + 100 * b + 50 * c + 20 * d + 10 * e + 5 * f) > 200:\n",
      "                            break\n",
      "                        for g in range(101):\n",
      "                            if (200 * a + 100 * b + 50 * c + 20 * d + 10 * e + 5 * f + 2 * g) > 200:\n",
      "                                break\n",
      "                            for h in range(201):\n",
      "                                if (200 * a + 100 * b + 50 * c + 20 * d + 10 * e + 5 * f + 2 * g + 1 * h) > 200:\n",
      "                                    count += 1\n",
      "                                    break\n",
      "                        \n",
      "print count                    "
     ],
     "language": "python",
     "metadata": {},
     "outputs": [
      {
       "output_type": "stream",
       "stream": "stdout",
       "text": [
        "73681\n"
       ]
      }
     ],
     "prompt_number": 17
    }
   ],
   "metadata": {}
  }
 ]
}