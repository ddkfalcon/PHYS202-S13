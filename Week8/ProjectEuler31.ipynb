{
 "metadata": {
  "name": "ProjectEuler31"
 },
 "nbformat": 3,
 "nbformat_minor": 0,
 "worksheets": [
  {
   "cells": [
    {
     "cell_type": "markdown",
     "metadata": {},
     "source": [
      "Coin sums\n",
      "=\n",
      "Problem 31\n",
      "-\n",
      "In England the currency is made up of pound, \u00a3, and pence, p, and there are eight coins in general circulation:  \n",
      "  \n",
      ">1p, 2p, 5p, 10p, 20p, 50p, \u00a31 (100p) and \u00a32 (200p).  \n",
      "  \n",
      "It is possible to make \u00a32 in the following way:  \n",
      "  \n",
      ">1x\u00a31 + 1x50p + 2x20p + 1x5p + 1x2p + 3x1p  \n",
      "  \n",
      "How many different ways can \u00a32 be made using any number of coins?  "
     ]
    },
    {
     "cell_type": "code",
     "collapsed": false,
     "input": [
      "target = 200\n",
      "coinSizes = {1, 2, 5, 10, 20, 100, 200}\n",
      "ways = [] * (target + 1)\n",
      "ways[0] = 1\n",
      "\n",
      "for i in range(0, len(coinSizes)):\n",
      "    for j in range(coinSizes[i], target + 1):\n",
      "        ways[j] += ways[j - coinSizes[i]]\n",
      "\n",
      "print len(ways)"
     ],
     "language": "python",
     "metadata": {},
     "outputs": []
    }
   ],
   "metadata": {}
  }
 ]
}