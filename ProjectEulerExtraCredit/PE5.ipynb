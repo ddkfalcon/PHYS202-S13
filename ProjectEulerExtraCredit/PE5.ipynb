{
 "metadata": {
  "name": "PE5"
 },
 "nbformat": 3,
 "nbformat_minor": 0,
 "worksheets": [
  {
   "cells": [
    {
     "cell_type": "markdown",
     "metadata": {},
     "source": [
      "Smallest multiple\n",
      "=\n",
      "Problem 5\n",
      "-\n",
      "2520 is the smallest number that can be divided by each of the numbers from 1 to 10 without any remainder.  \n",
      "  \n",
      "What is the smallest positive number that is evenly divisible by all of the numbers from 1 to 20?  "
     ]
    },
    {
     "cell_type": "code",
     "collapsed": false,
     "input": [
      "N = 1\n",
      "cap = 20\n",
      "for i in range(1, cap + 1):\n",
      "    while N % i != 0:\n",
      "        N += 1\n",
      "        i += 1\n",
      "print N"
     ],
     "language": "python",
     "metadata": {},
     "outputs": [],
     "prompt_number": "*"
    },
    {
     "cell_type": "code",
     "collapsed": false,
     "input": [],
     "language": "python",
     "metadata": {},
     "outputs": []
    }
   ],
   "metadata": {}
  }
 ]
}