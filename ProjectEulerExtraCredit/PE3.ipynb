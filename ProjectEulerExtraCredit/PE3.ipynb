{
 "metadata": {
  "name": "PE3"
 },
 "nbformat": 3,
 "nbformat_minor": 0,
 "worksheets": [
  {
   "cells": [
    {
     "cell_type": "markdown",
     "metadata": {},
     "source": [
      "Largest prime factor\n",
      "=\n",
      "Problem 3\n",
      "-\n",
      "The prime factors of 13195 are 5, 7, 13 and 29.  \n",
      "  \n",
      "What is the largest prime factor of the number 600851475143 ?  "
     ]
    },
    {
     "cell_type": "code",
     "collapsed": false,
     "input": [
      "\"\"\"Unfinished\"\"\"\n",
      "\n",
      "N = 13195\n",
      "a = 2\n",
      "primes = []\n",
      "while a <= N / 2:\n",
      "    if N % a == 0:\n",
      "        primes.append(a)\n",
      "    a += 1\n",
      "for i in range(len(primes)):\n",
      "    print str(primes[i]) + \", \""
     ],
     "language": "python",
     "metadata": {},
     "outputs": [
      {
       "output_type": "stream",
       "stream": "stdout",
       "text": [
        "5, \n",
        "7, \n",
        "13, \n",
        "29, \n",
        "35, \n",
        "65, \n",
        "91, \n",
        "145, \n",
        "203, \n",
        "377, \n",
        "455, \n",
        "1015, \n",
        "1885, \n",
        "2639, \n"
       ]
      }
     ],
     "prompt_number": 6
    },
    {
     "cell_type": "code",
     "collapsed": false,
     "input": [],
     "language": "python",
     "metadata": {},
     "outputs": []
    }
   ],
   "metadata": {}
  }
 ]
}