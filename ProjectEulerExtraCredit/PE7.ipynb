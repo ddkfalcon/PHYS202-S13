{
 "metadata": {
  "name": "PE7"
 },
 "nbformat": 3,
 "nbformat_minor": 0,
 "worksheets": [
  {
   "cells": [
    {
     "cell_type": "markdown",
     "metadata": {},
     "source": [
      "10001st prime\n",
      "=\n",
      "Problem 7\n",
      "-\n",
      "By listing the first six prime numbers: 2, 3, 5, 7, 11, and 13, we can see that the 6th prime is 13.  \n",
      "  \n",
      "What is the 10 001st prime number?  "
     ]
    },
    {
     "cell_type": "code",
     "collapsed": false,
     "input": [
      "\"\"\"Unfinished\"\"\"\n",
      "\n",
      "n = 6\n",
      "A = [False] * n\n",
      "A[0] = True\n",
      "for i in range(1, n + 1):\n",
      "    A.append(True)\n",
      "for j in range(2, int(sqrt(n)) + 1):\n",
      "    if A[j] == True:\n",
      "        for k in range(j ** 2, n + 1, j):\n",
      "            A[k] = False\n",
      "count = 0\n",
      "for l in range(len(A) + 1):\n",
      "    if A[l] == True:\n",
      "        count += 1\n",
      "        if count == n:\n",
      "            print l\n",
      "            break"
     ],
     "language": "python",
     "metadata": {},
     "outputs": [
      {
       "output_type": "stream",
       "stream": "stdout",
       "text": [
        "10\n"
       ]
      }
     ],
     "prompt_number": 8
    },
    {
     "cell_type": "code",
     "collapsed": false,
     "input": [],
     "language": "python",
     "metadata": {},
     "outputs": []
    }
   ],
   "metadata": {}
  }
 ]
}