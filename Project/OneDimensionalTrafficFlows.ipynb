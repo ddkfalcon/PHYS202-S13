{
 "metadata": {
  "name": "OneDimensionalTrafficFlows"
 },
 "nbformat": 3,
 "nbformat_minor": 0,
 "worksheets": [
  {
   "cells": [
    {
     "cell_type": "code",
     "collapsed": false,
     "input": [
      "import random\n",
      "\n",
      "def CA184(carPositions, velocities):\n",
      "    for i in range(len(carPositions)):\n",
      "        if i < 5:\n",
      "            emptySites[i] = abs(carPositions[i] - carPositions[i + 1])\n",
      "        if velocities[i] > emptySites[i]:\n",
      "            velocities[i] = emptySites[i]\n",
      "        if velocities[i] < emptySites[i] and velocities == velocityMax:\n",
      "            velocities[i] += 1\n",
      "        for j in range(len(velocities)):\n",
      "            if velocities[j] < 0:\n",
      "                p = random.getrandbits(1)\n",
      "                velocities[j] -= 1 * p\n",
      "        carPositions[i] += velocities[i]\n",
      "        if carPositions[i] > roadLength:\n",
      "            carPositions[i] = carPositions[i] - roadLength\n",
      "    return carPositions, velocities"
     ],
     "language": "python",
     "metadata": {},
     "outputs": [],
     "prompt_number": 10
    },
    {
     "cell_type": "code",
     "collapsed": false,
     "input": [
      "roadLength = 40\n",
      "numCars = 5\n",
      "velocityMax = 10\n",
      "emptySites = [0] * (numCars + 1)\n",
      "carPositions = [0] * (numCars + 1)\n",
      "velocities = [0] * (numCars + 1)\n",
      "usedValues = []\n",
      "\n",
      "for k in range(numCars + 1):\n",
      "    if k == 0:\n",
      "        lowLimit = 0\n",
      "        upLimit = int(roadLength / (numCars + 1))\n",
      "    upLimitTimesk = upLimit * (k + 1)\n",
      "    carPositions[k] = random.randrange(lowLimit, upLimitTimesk, 1)\n",
      "    usedValues.append(carPositions[k])\n",
      "    if k < 5:\n",
      "        emptySites[k] = abs(carPositions[k] - carPositions[k + 1])\n",
      "    else:\n",
      "        emptySites[k] = roadLength - carPositions[k]\n",
      "    for l in range(len(usedValues)):\n",
      "        while carPositions[k] == usedValues[l]:\n",
      "            carPositions[k] = random.randrange(lowLimit, upLimitTimesk, 1)\n",
      "    velocities[k] = random.randint(0, velocityMax)\n",
      "    usedValues[k] = carPositions[k]\n",
      "    #print k\n",
      "    lowLimit = upLimitTimesk\n",
      "print \"Before Calling [positions] [velocites] [empty sites]\"\n",
      "print carPositions, \"  \", velocities, \"  \", emptySites\n",
      "carPositions, velocities = CA184(carPositions, velocities)\n",
      "print \"After Calling [positions] [velocites] [empty sites]\"\n",
      "print carPositions, \"  \", velocities, \"  \", emptySites"
     ],
     "language": "python",
     "metadata": {},
     "outputs": [
      {
       "output_type": "stream",
       "stream": "stdout",
       "text": [
        "Before Calling [positions] [velocites] [empty sites]\n",
        "[0, 8, 17, 18, 27, 30]    [4, 4, 6, 0, 4, 10]    [3, 11, 12, 23, 28, 5]\n",
        "After Calling [positions] [velocites] [empty sites]\n",
        "[4, 12, 18, 18, 30, 35]    [4, 4, 1, 0, 3, 5]    [8, 9, 1, 9, 3, 5]\n"
       ]
      }
     ],
     "prompt_number": 33
    },
    {
     "cell_type": "code",
     "collapsed": false,
     "input": [],
     "language": "python",
     "metadata": {},
     "outputs": [],
     "prompt_number": 39
    },
    {
     "cell_type": "code",
     "collapsed": false,
     "input": [],
     "language": "python",
     "metadata": {},
     "outputs": []
    }
   ],
   "metadata": {}
  }
 ]
}