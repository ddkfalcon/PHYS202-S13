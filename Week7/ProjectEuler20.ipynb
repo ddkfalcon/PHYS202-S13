{
 "metadata": {
  "name": "ProjectEuler20"
 },
 "nbformat": 3,
 "nbformat_minor": 0,
 "worksheets": [
  {
   "cells": [
    {
     "cell_type": "markdown",
     "metadata": {},
     "source": [
      "Factorial digit sum\n",
      "=\n",
      "Problem 20\n",
      "-"
     ]
    },
    {
     "cell_type": "markdown",
     "metadata": {},
     "source": [
      "n! means n x (n - 1) x ... x 3 x 2 x 1  \n",
      "  \n",
      "For example, 10! = 10 x 9 x ... x 3 x 2 x 1 = 3628800,  \n",
      "and the sum of the digits in the number 10! is 3 + 6 + 2 + 8 + 8 + 0 + 0 = 27.  \n",
      "  \n",
      "Find the sum of the digits in the number 100!  "
     ]
    },
    {
     "cell_type": "code",
     "collapsed": false,
     "input": [
      "\"\"\"Test Case for n = 10\"\"\"\n",
      "\n",
      "def takeFactorial(number):\n",
      "    factorial = number\n",
      "    for i in range(1, number):\n",
      "        factorial = factorial * i\n",
      "    return factorial\n",
      "\n",
      "def digitSum(factorial):\n",
      "    factorialString = str(factorial)\n",
      "    digitSum = 0\n",
      "    for digit in factorialString:\n",
      "        digitSum += int(digit)\n",
      "    return digitSum\n",
      "\n",
      "number = 10\n",
      "print digitSum(takeFactorial(number))"
     ],
     "language": "python",
     "metadata": {},
     "outputs": [
      {
       "output_type": "stream",
       "stream": "stdout",
       "text": [
        "27\n"
       ]
      }
     ],
     "prompt_number": 5
    },
    {
     "cell_type": "code",
     "collapsed": false,
     "input": [
      "\"\"\"Test Case for n = 10\"\"\"\n",
      "\n",
      "def takeFactorial(number):\n",
      "    factorial = number\n",
      "    for i in range(1, number):\n",
      "        factorial = factorial * i\n",
      "    return factorial\n",
      "\n",
      "def digitSum(factorial):\n",
      "    factorialString = str(factorial)\n",
      "    digitSum = 0\n",
      "    for digit in factorialString:\n",
      "        digitSum += int(digit)\n",
      "    return digitSum\n",
      "\n",
      "number = 100\n",
      "print digitSum(takeFactorial(number))"
     ],
     "language": "python",
     "metadata": {},
     "outputs": [
      {
       "output_type": "stream",
       "stream": "stdout",
       "text": [
        "648\n"
       ]
      }
     ],
     "prompt_number": 6
    }
   ],
   "metadata": {}
  }
 ]
}