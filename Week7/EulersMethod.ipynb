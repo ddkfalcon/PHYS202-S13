{
 "metadata": {
  "name": "EulersMethod"
 },
 "nbformat": 3,
 "nbformat_minor": 0,
 "worksheets": [
  {
   "cells": [
    {
     "cell_type": "markdown",
     "metadata": {},
     "source": [
      "Euler's Method\n",
      "="
     ]
    },
    {
     "cell_type": "markdown",
     "metadata": {},
     "source": [
      "Exercise 1.\n",
      "-"
     ]
    },
    {
     "cell_type": "code",
     "collapsed": false,
     "input": [
      "import math\n",
      "\n",
      "def Euler(f, xa, xb, ya, n):\n",
      "    h = (xb - xa) / float(n)\n",
      "    x = xa\n",
      "    y = ya\n",
      "    for i in range(n):\n",
      "        y += h * f(x, y)\n",
      "        x += h\n",
      "    return y\n",
      "print Euler(lambda x, y: x + 2 * y, 0, 1, 0, 100000)"
     ],
     "language": "python",
     "metadata": {},
     "outputs": [
      {
       "output_type": "stream",
       "stream": "stdout",
       "text": [
        "1.09722708031\n"
       ]
      }
     ],
     "prompt_number": 2
    },
    {
     "cell_type": "markdown",
     "metadata": {},
     "source": [
      "Example 1: Free-fall\n",
      "-"
     ]
    },
    {
     "cell_type": "code",
     "collapsed": false,
     "input": [
      "def Euler(x0, y0, dx, dydx):\n",
      "    dy = dx * dydx\n",
      "    xdx = dx + x0\n",
      "    ydy = dx + y0\n",
      "x0 = 0\n",
      "y0 = 0\n",
      "dx = 0.25\n",
      "dydx = x0 + 2 * y0"
     ],
     "language": "python",
     "metadata": {},
     "outputs": [],
     "prompt_number": 14
    },
    {
     "cell_type": "code",
     "collapsed": false,
     "input": [],
     "language": "python",
     "metadata": {},
     "outputs": [],
     "prompt_number": 14
    },
    {
     "cell_type": "code",
     "collapsed": false,
     "input": [],
     "language": "python",
     "metadata": {},
     "outputs": []
    }
   ],
   "metadata": {}
  }
 ]
}