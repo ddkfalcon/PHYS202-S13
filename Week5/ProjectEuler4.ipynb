{
 "metadata": {
  "name": "ProjectEuler4"
 },
 "nbformat": 3,
 "nbformat_minor": 0,
 "worksheets": [
  {
   "cells": [
    {
     "cell_type": "markdown",
     "metadata": {},
     "source": [
      "Largest palindrome product\n",
      "=\n",
      "Problem 4\n",
      "-\n",
      "\n",
      "A palindromic number reads the same both ways. The largest palindrome made from the product of two 2-digit numbers is 9009 = 91 x 99.\n",
      "\n",
      "Find the largest palindrome made from the product of two 3-digit numbers."
     ]
    },
    {
     "cell_type": "code",
     "collapsed": false,
     "input": [
      "#Below is the test case\n",
      "\"\"\"\n",
      "test = 101\n",
      "for a in range(10,100):\n",
      "    for b in range(10,100):\n",
      "        product = a*b\n",
      "        product_string = str(product)\n",
      "        backwards = product_string[::-1]\n",
      "        if product_string == backwards and product > test:\n",
      "            test = product\n",
      "print test\n",
      "\"\"\"\n",
      "\n",
      "#This is the code to solve the question\n",
      "test = 10001\n",
      "for a in range(100,1000):\n",
      "    for b in range(100,1000):\n",
      "        product = a*b\n",
      "        product_string = str(product)\n",
      "        backwards = product_string[::-1]\n",
      "        if product_string == backwards and product > test:\n",
      "            test = product\n",
      "            num1 = a\n",
      "            num2 = b\n",
      "print num1 , \" * \" , num2 , \" = \" , test"
     ],
     "language": "python",
     "metadata": {},
     "outputs": [
      {
       "output_type": "stream",
       "stream": "stdout",
       "text": [
        "913  *  993  =  906609\n",
        "906609\n"
       ]
      }
     ],
     "prompt_number": 10
    }
   ],
   "metadata": {}
  }
 ]
}