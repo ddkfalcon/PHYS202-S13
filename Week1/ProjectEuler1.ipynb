{
 "metadata": {
  "name": "ProjectEuler1"
 },
 "nbformat": 3,
 "nbformat_minor": 0,
 "worksheets": [
  {
   "cells": [
    {
     "cell_type": "code",
     "collapsed": false,
     "input": [
      "apples = 0\n",
      "oranges = 0\n",
      "if apples == oranges:\n",
      "    print 'You have the same number of apples and oranges'\n",
      "else:\n",
      "    print \"You don't have the same number of apples and oranges\""
     ],
     "language": "python",
     "metadata": {},
     "outputs": []
    },
    {
     "cell_type": "markdown",
     "metadata": {},
     "source": [
      "Multiples of 3 and 5\n",
      "====================\n",
      "Problem 1\n",
      "---------\n",
      "If we list all the natural numbers below 10 that are multiples of 3 or 5, we get 3, 5, 6 and 9. The sum of these multiples is 23.\n",
      "\n",
      "Find the sum of all the multiples of 3 or 5 below 1000."
     ]
    },
    {
     "cell_type": "code",
     "collapsed": false,
     "input": [
      "sum1 = 0\n",
      "for i in range(1000):\n",
      "    if i % 3 == 0 or i % 5 == 0:\n",
      "        sum1 = sum1 + i\n",
      "print sum1"
     ],
     "language": "python",
     "metadata": {},
     "outputs": [
      {
       "output_type": "stream",
       "stream": "stdout",
       "text": [
        "233168\n"
       ]
      }
     ],
     "prompt_number": 16
    },
    {
     "cell_type": "code",
     "collapsed": false,
     "input": [],
     "language": "python",
     "metadata": {},
     "outputs": []
    }
   ],
   "metadata": {}
  }
 ]
}