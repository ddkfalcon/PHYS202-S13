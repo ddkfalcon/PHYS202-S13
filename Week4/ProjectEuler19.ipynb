{
 "metadata": {
  "name": "ProjectEuler19"
 },
 "nbformat": 3,
 "nbformat_minor": 0,
 "worksheets": [
  {
   "cells": [
    {
     "cell_type": "markdown",
     "metadata": {},
     "source": [
      "Counting Sundays\n",
      "=\n",
      "Problem 19\n",
      "-\n"
     ]
    },
    {
     "cell_type": "code",
     "collapsed": false,
     "input": [
      "initialYear = 1901\n",
      "finalYear = 2000\n",
      "startingDay = 0\n",
      "sunCount = 0\n",
      "for year in range(initialYear, finalYear + 1):\n",
      "    if year % 100 == 0:\n",
      "        if year % 400 == 0:\n",
      "            daysOfYear = 366\n",
      "        else:\n",
      "            daysOfYear = 365\n",
      "    elif year % 4 == 0:\n",
      "        daysOfYear = 366\n",
      "    else:\n",
      "        daysOfYear = 365\n",
      "    for day in range(1, daysOfYear +1):\n",
      "        if (day + startingDay) % 7 == 0:\n",
      "            sunCount += 1\n",
      "        if daysOfYear == 366:\n",
      "            startingDay +=1\n",
      "        if startingDay > 6:\n",
      "            startingDay = 0\n",
      "print sunCount"
     ],
     "language": "python",
     "metadata": {},
     "outputs": [
      {
       "output_type": "stream",
       "stream": "stdout",
       "text": [
        "5220\n"
       ]
      }
     ],
     "prompt_number": 2
    }
   ],
   "metadata": {}
  }
 ]
}