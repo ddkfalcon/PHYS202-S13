{
 "metadata": {
  "name": "Week9InClassExercises"
 },
 "nbformat": 3,
 "nbformat_minor": 0,
 "worksheets": [
  {
   "cells": [
    {
     "cell_type": "markdown",
     "metadata": {},
     "source": [
      "Data I/O and Linear Regression\n",
      "="
     ]
    },
    {
     "cell_type": "markdown",
     "metadata": {},
     "source": [
      "Data I/O\n",
      "-"
     ]
    },
    {
     "cell_type": "code",
     "collapsed": false,
     "input": [
      "DataIn = loadtxt('input.dat')\n",
      "print DataIn.shape\n",
      "print DataIn"
     ],
     "language": "python",
     "metadata": {},
     "outputs": [
      {
       "output_type": "stream",
       "stream": "stdout",
       "text": [
        "(5, 3)\n",
        "[[ 0.   1.1  0.1]\n",
        " [ 2.   1.9  0.2]\n",
        " [ 4.   3.2  0.1]\n",
        " [ 6.   4.   0.3]\n",
        " [ 8.   5.9  0.3]]\n"
       ]
      }
     ],
     "prompt_number": 2
    },
    {
     "cell_type": "code",
     "collapsed": false,
     "input": [
      "print DataIn[:,2]"
     ],
     "language": "python",
     "metadata": {},
     "outputs": [
      {
       "output_type": "stream",
       "stream": "stdout",
       "text": [
        "[ 0.1  0.2  0.1  0.3  0.3]\n"
       ]
      }
     ],
     "prompt_number": 3
    },
    {
     "cell_type": "code",
     "collapsed": false,
     "input": [
      "x, y, yerr = loadtxt('input.dat', unpack = True)\n",
      "print x\n",
      "print y\n",
      "print yerr"
     ],
     "language": "python",
     "metadata": {},
     "outputs": [
      {
       "output_type": "stream",
       "stream": "stdout",
       "text": [
        "[ 0.  2.  4.  6.  8.]\n",
        "[ 1.1  1.9  3.2  4.   5.9]\n",
        "[ 0.1  0.2  0.1  0.3  0.3]\n"
       ]
      }
     ],
     "prompt_number": 4
    },
    {
     "cell_type": "code",
     "collapsed": false,
     "input": [
      "x, y = loadtxt('input.dat', unpack = True, usecols = [0,1])\n",
      "print x\n",
      "print y"
     ],
     "language": "python",
     "metadata": {},
     "outputs": [
      {
       "output_type": "stream",
       "stream": "stdout",
       "text": [
        "[ 0.  2.  4.  6.  8.]\n",
        "[ 1.1  1.9  3.2  4.   5.9]\n"
       ]
      }
     ],
     "prompt_number": 5
    },
    {
     "cell_type": "markdown",
     "metadata": {},
     "source": [
      "Dealing with csv files.\n",
      "-"
     ]
    },
    {
     "cell_type": "code",
     "collapsed": false,
     "input": [
      "x, y = loadtxt('input.csv', unpack = True, delimiter = ',', usecols = [0,1])\n",
      "print x, y"
     ],
     "language": "python",
     "metadata": {},
     "outputs": [
      {
       "output_type": "stream",
       "stream": "stdout",
       "text": [
        "[ 0.  2.  4.  6.  8.] [ 1.1  1.9  3.2  4.   5.9]\n"
       ]
      }
     ],
     "prompt_number": 6
    },
    {
     "cell_type": "code",
     "collapsed": false,
     "input": [
      "#x, y = loadtxt('input.csv', unpack = True, usecols = [0,1])\n",
      "#print x, y"
     ],
     "language": "python",
     "metadata": {},
     "outputs": [],
     "prompt_number": 7
    },
    {
     "cell_type": "markdown",
     "metadata": {},
     "source": [
      "Writing data to a file.\n",
      "-"
     ]
    },
    {
     "cell_type": "code",
     "collapsed": false,
     "input": [
      "t = array([0, 1, 2, 3, 4, 5, 6, 7, 8, 9])\n",
      "v = array([0.137, 0.456, 0.591, 0.713, 0.859, 0.926, 1.139, 1.327, 1.512, 1.875])"
     ],
     "language": "python",
     "metadata": {},
     "outputs": [],
     "prompt_number": 8
    },
    {
     "cell_type": "code",
     "collapsed": false,
     "input": [
      "p = 0.15 + v / 10.0\n",
      "print len(v), len(p), p"
     ],
     "language": "python",
     "metadata": {},
     "outputs": [
      {
       "output_type": "stream",
       "stream": "stdout",
       "text": [
        "10 10 [ 0.1637  0.1956  0.2091  0.2213  0.2359  0.2426  0.2639  0.2827  0.3012\n",
        "  0.3375]\n"
       ]
      }
     ],
     "prompt_number": 9
    },
    {
     "cell_type": "code",
     "collapsed": false,
     "input": [
      "savetxt('output.dat', (t,p))"
     ],
     "language": "python",
     "metadata": {},
     "outputs": [],
     "prompt_number": 10
    },
    {
     "cell_type": "code",
     "collapsed": false,
     "input": [
      "DataOut = column_stack((t,p))\n",
      "savetxt('output.dat', DataOut)"
     ],
     "language": "python",
     "metadata": {},
     "outputs": [],
     "prompt_number": 11
    },
    {
     "cell_type": "code",
     "collapsed": false,
     "input": [
      "savetxt('output.dat', DataOut, fmt = ('%3i', '%4.3f'))"
     ],
     "language": "python",
     "metadata": {},
     "outputs": [],
     "prompt_number": 12
    },
    {
     "cell_type": "code",
     "collapsed": false,
     "input": [
      "f = open(\"output.dat\", \"w\")\n",
      "f.write(\"#My comment line for this file, followed by a blank line, then the data\\n\\n\")\n",
      "savetxt(f, DataOut, fmt = ('%3i', '%4.3f'))\n",
      "f.close()"
     ],
     "language": "python",
     "metadata": {},
     "outputs": [],
     "prompt_number": 13
    },
    {
     "cell_type": "markdown",
     "metadata": {},
     "source": [
      "Exercise 1.\n",
      "-"
     ]
    },
    {
     "cell_type": "code",
     "collapsed": false,
     "input": [
      "t = array([1,2,3,4,5,6,7,8,9,10])\n",
      "pos = array([7.75, 7.33, 6.89, 6.45, 5.96,5.55,5.10,4.49,3.93,3.58])\n",
      "uncOfPos = array([0.02,0.03,0.03,0.04,0.05,0.06,0.08,0.11,0.14,0.17])"
     ],
     "language": "python",
     "metadata": {},
     "outputs": [],
     "prompt_number": 14
    },
    {
     "cell_type": "code",
     "collapsed": false,
     "input": [
      "DataOut = column_stack((t,pos,uncOfPos))\n",
      "f = open(\"linearData.dat\", \"w\")\n",
      "f.write(\"#time(s), position(m), uncertainty of position(m), separated by space\\n\\n\")\n",
      "savetxt(f, DataOut, fmt = ('%3i', '%4.2f', '%4.2f'))\n",
      "f.close()"
     ],
     "language": "python",
     "metadata": {},
     "outputs": [],
     "prompt_number": 15
    },
    {
     "cell_type": "markdown",
     "metadata": {},
     "source": [
      "Exercise 2:\n",
      "-"
     ]
    },
    {
     "cell_type": "markdown",
     "metadata": {},
     "source": [
      "(a)"
     ]
    },
    {
     "cell_type": "code",
     "collapsed": false,
     "input": [
      "def LinearLeastSquaresFit(x,y):\n",
      "    \"\"\"Take in arrays representing (x,y) values for a set of linearly varying data and \n",
      "    perform a linear least squares regression.  Return the resulting slope and intercept\n",
      "    parameters of the best fit line with their uncertainties.\"\"\"\n",
      "    \n",
      "    xBracket = average(x)\n",
      "    yBracket = average(y)\n",
      "    xSquaredBracket = average(x ** 2)\n",
      "    xyBracket = average(x * y)\n",
      "    slope = (xyBracket - xBracket * yBracket) / (xSquaredBracket - xBracket ** 2)\n",
      "    intercept = (xSquaredBracket * yBracket - xBracket * xyBracket) / (xSquaredBracket - xBracket ** 2)\n",
      "    d = y - (slope * x + intercept)\n",
      "    slerr = sqrt(1 / (len(d) - 2.) * average(d ** 2) / (xSquaredBracket - xBracket ** 2))\n",
      "    interr = sqrt(1 / (len(d) - 2.) * average(d ** 2) * xSquaredBracket / (xSquaredBracket - xBracket ** 2))\n",
      "    \n",
      "    return slope, intercept, slerr, interr"
     ],
     "language": "python",
     "metadata": {},
     "outputs": [],
     "prompt_number": 16
    },
    {
     "cell_type": "markdown",
     "metadata": {},
     "source": [
      "(b)"
     ]
    },
    {
     "cell_type": "code",
     "collapsed": false,
     "input": [
      "x, y, erry = loadtxt('linearData.dat', unpack = True)\n",
      "print LinearLeastSquaresFit(x,y)"
     ],
     "language": "python",
     "metadata": {},
     "outputs": [
      {
       "output_type": "stream",
       "stream": "stdout",
       "text": [
        "(-0.47145454545454524, 8.2960000000000012, 0.0079948330421529545, 0.049606634453651217)\n"
       ]
      }
     ],
     "prompt_number": 17
    },
    {
     "cell_type": "markdown",
     "metadata": {},
     "source": [
      "(c)"
     ]
    },
    {
     "cell_type": "code",
     "collapsed": false,
     "input": [
      "x, y, erry = loadtxt('linearData.dat', unpack = True)\n",
      "slope, intercept, slerr, interr = LinearLeastSquaresFit(x, y)\n",
      "y = lambda x: slope * x + intercept\n",
      "yplus = lambda x: (slope + slerr) * x + (intercept + interr)\n",
      "yminus = lambda x: (slope - slerr) * x + (intercept - interr)\n",
      "plot(x, y(x), 'k', label = \"y = %.4f x + %.4f\" %(slope, intercept))\n",
      "plot(x, yplus(x), 'g--', label = \"y$_+$ = (%.4f + %.4f) x + (%.4f + %.4f)\" %(slope, slerr, intercept, interr))\n",
      "plot(x, yminus(x), 'b--', label = \"y$_+$ = (%.4f - %.4f) x + (%.4f - %.4f)\" %(slope, slerr, intercept, interr))\n",
      "title(\"Line With One Standard Deviation\", fontsize = 18)\n",
      "xlabel(\"x\",fontsize = 14)\n",
      "ylabel(\"y\", size = 14)\n",
      "legend(bbox_to_anchor = (1.05, 1), loc = 2, borderaxespad = 0.)\n",
      "show()"
     ],
     "language": "python",
     "metadata": {},
     "outputs": [
      {
       "output_type": "display_data",
       "png": "[encoded data removed]"
      }
     ],
     "prompt_number": 18
    },
    {
     "cell_type": "markdown",
     "metadata": {},
     "source": [
      "Exercise 3\n",
      "-"
     ]
    },
    {
     "cell_type": "markdown",
     "metadata": {},
     "source": [
      "(a)"
     ]
    },
    {
     "cell_type": "code",
     "collapsed": false,
     "input": [
      "def WeightedLinearLeastSquaresFit(x, y, w):\n",
      "    \"\"\"Take in arrays representing (x, y) values for a set of linearly varying data and an array of weights w.\n",
      "    Perform a weighted linear least sqares regression.  Return the resulting slope and intercept \n",
      "    parameters of the best fit line with their uncertainties.\n",
      "\n",
      "    If the weights are all equal to one, the uncertainties on the parameters are calulated using the\n",
      "    non-weighted least squares equations.\"\"\"\n",
      "    \n",
      "    slope = (sum(w) * sum(w * x * y) - sum(w * x) * sum(w * y)) / (sum(w) * sum(w * x ** 2) - (sum(w * x)) ** 2)\n",
      "    intercept = (sum(w * x ** 2) * sum(w * y) - sum(w * x) * sum(w * x * y)) / (sum(w) * sum(w * x ** 2) - (sum(w * x)) ** 2)\n",
      "    slerr = sqrt((sum(w)) / (sum(w) * sum(w * x ** 2) - (sum(w * x)) ** 2))\n",
      "    interr = sqrt((sum(w * x ** 2)) / (sum(w) * sum(w * x ** 2) - sum(w * x) ** 2))\n",
      "    \n",
      "    return slope, slerr, intercept, interr"
     ],
     "language": "python",
     "metadata": {},
     "outputs": [],
     "prompt_number": 40
    },
    {
     "cell_type": "markdown",
     "metadata": {},
     "source": [
      "(b)"
     ]
    },
    {
     "cell_type": "code",
     "collapsed": false,
     "input": [
      "x, y, w = loadtxt('linearData.dat', unpack = True)\n",
      "slope, slerr, intercept, interr = WeightedLinearLeastSquaresFit(x, y, w)\n",
      "print slope, slerr, intercept, interr"
     ],
     "language": "python",
     "metadata": {},
     "outputs": [
      {
       "output_type": "stream",
       "stream": "stdout",
       "text": [
        "-0.479358159337 0.461386648159 8.34393502858 3.57225332498\n"
       ]
      }
     ],
     "prompt_number": 41
    },
    {
     "cell_type": "markdown",
     "metadata": {},
     "source": [
      "(c)"
     ]
    },
    {
     "cell_type": "code",
     "collapsed": false,
     "input": [
      "errorbar(x, y, yerr=w, fmt='go')\n",
      "title(\"Error Bar Plot\", size = 18)\n",
      "xlim(0, 11)\n",
      "ylim(0, 9)\n",
      "xlabel(\"x\", size = 14)\n",
      "ylabel(\"y\", size = 14)\n",
      "\n"
     ],
     "language": "python",
     "metadata": {},
     "outputs": [
      {
       "output_type": "pyout",
       "prompt_number": 52,
       "text": [
        "<matplotlib.text.Text at 0x108f10e50>"
       ]
      },
      {
       "output_type": "display_data",
       "png": "[encoded data removed]"
      }
     ],
     "prompt_number": 52
    },
    {
     "cell_type": "code",
     "collapsed": false,
     "input": [
      "#For making the table format without borders\n",
      "\n",
      "from Ipython.display import HTML\n",
      "HTML(\"\"\"\n",
      "<style>\n",
      ".rendered_html table, .rendered_html tr, .rendered_html th, .rendered_html td{\n",
      "    border: 0 solid black;\n",
      "}\n",
      "</style>\"\"\")"
     ],
     "language": "python",
     "metadata": {},
     "outputs": [
      {
       "ename": "ImportError",
       "evalue": "No module named Ipython.display",
       "output_type": "pyerr",
       "traceback": [
        "\u001b[0;31m---------------------------------------------------------------------------\u001b[0m\n\u001b[0;31mImportError\u001b[0m                               Traceback (most recent call last)",
        "\u001b[0;32m<ipython-input-53-ac96f3e5311f>\u001b[0m in \u001b[0;36m<module>\u001b[0;34m()\u001b[0m\n\u001b[1;32m      1\u001b[0m \u001b[0;31m#For making the table format without borders\u001b[0m\u001b[0;34m\u001b[0m\u001b[0;34m\u001b[0m\u001b[0m\n\u001b[1;32m      2\u001b[0m \u001b[0;34m\u001b[0m\u001b[0m\n\u001b[0;32m----> 3\u001b[0;31m \u001b[0;32mfrom\u001b[0m \u001b[0mIpython\u001b[0m\u001b[0;34m.\u001b[0m\u001b[0mdisplay\u001b[0m \u001b[0;32mimport\u001b[0m \u001b[0mHTML\u001b[0m\u001b[0;34m\u001b[0m\u001b[0m\n\u001b[0m\u001b[1;32m      4\u001b[0m HTML(\"\"\"\n\u001b[1;32m      5\u001b[0m \u001b[0;34m<\u001b[0m\u001b[0mstyle\u001b[0m\u001b[0;34m>\u001b[0m\u001b[0;34m\u001b[0m\u001b[0m\n",
        "\u001b[0;31mImportError\u001b[0m: No module named Ipython.display"
       ]
      }
     ],
     "prompt_number": 53
    }
   ],
   "metadata": {}
  }
 ]
}