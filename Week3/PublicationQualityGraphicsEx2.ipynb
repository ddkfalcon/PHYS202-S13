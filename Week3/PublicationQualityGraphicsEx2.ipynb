{
 "metadata": {
  "name": "PublicationQualityGraphicsEx2"
 },
 "nbformat": 3,
 "nbformat_minor": 0,
 "worksheets": [
  {
   "cells": [
    {
     "cell_type": "markdown",
     "metadata": {},
     "source": [
      "Publication quality graphics, Exercises 2\n",
      "="
     ]
    },
    {
     "cell_type": "markdown",
     "metadata": {},
     "source": [
      "1.\n",
      "-\n",
      "(a)"
     ]
    },
    {
     "cell_type": "markdown",
     "metadata": {},
     "source": [
      "\\begin{equation}\n",
      "\\psi_k (x) = A\\left(\\\\frac{ik - a\\tanh (ax) }{ik + a}\\right)e^{+ikx}\n",
      "\\end{equation}"
     ]
    },
    {
     "cell_type": "markdown",
     "metadata": {},
     "source": [
      "(b)"
     ]
    },
    {
     "cell_type": "markdown",
     "metadata": {},
     "source": [
      "\\begin{equation}\n",
      "v_1 = m_2\\sqrt{\\frac{2G}{M}\\left(\\\\frac{1}{r} - \\frac{1}{r_0}\\right)\\}\n",
      "\\end{equation}"
     ]
    },
    {
     "cell_type": "markdown",
     "metadata": {},
     "source": [
      "(c)"
     ]
    },
    {
     "cell_type": "markdown",
     "metadata": {},
     "source": [
      "\\begin{equation}\n",
      "f(\\theta) = \\frac{\\hbar}{p}\\displaystyle\\sum_{\\ell = 0}^{\\infty} (2\\ell + 1)e^{i\\delta_\\ell} \\sin \\delta_\\ell P_\\ell \\left(\\cos\\theta\\right)\n",
      "\\end{equation}"
     ]
    },
    {
     "cell_type": "markdown",
     "metadata": {},
     "source": [
      "(d)"
     ]
    },
    {
     "cell_type": "markdown",
     "metadata": {},
     "source": [
      "\\begin{equation}\n",
      "\\frac{d\\sigma}{d\\Omega} = \\frac{k\\pi ^2(\\pi - \\theta)}{mu_0^2 \\theta ^2 (2\\pi - \\theta)^2 \\sin\\theta}\n",
      "\\end{equation}"
     ]
    },
    {
     "cell_type": "code",
     "collapsed": false,
     "input": [],
     "language": "python",
     "metadata": {},
     "outputs": []
    }
   ],
   "metadata": {}
  }
 ]
}